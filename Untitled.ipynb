{
 "cells": [
  {
   "cell_type": "code",
   "execution_count": 2,
   "metadata": {},
   "outputs": [],
   "source": [
    "import numpy as np\n",
    "import networkx as nx\n",
    "from matplotlib import pyplot as plt\n",
    "%matplotlib inline\n",
    "from itertools import *\n",
    "from collections import *"
   ]
  },
  {
   "cell_type": "code",
   "execution_count": 3,
   "metadata": {},
   "outputs": [],
   "source": [
    "dzip = lambda *args: dict(zip(*args))\n",
    "\n",
    "class IITriangles:\n",
    "    \n",
    "    def __init__(self, seed, n):\n",
    "        self.seed = seed\n",
    "        self.n = n\n",
    "        self.puzzle = self.generate_puzzle(seed, n)"
   ]
  },
  {
   "cell_type": "markdown",
   "metadata": {},
   "source": [
    "# Creating the Puzzle\n",
    "\n",
    "First we generate a puzzle from the seed and number of cubes. We format the puzzle as a dictionary where the key is the cube id and the value is a tuple containing the colors. We use excel-column label format for the cube names to \n",
    "differenciate them from the colors.\n",
    "\n",
    "| cube | color 1 | color 2 | color 3 |\n",
    "|:---: | :------ | :------ | :------ |\n",
    "|**A** | 1       | 2       | 3       |\n",
    "|**B** | 3       | 2       | 1       |\n",
    "|**C** | 1       | 3       | 3       |\n",
    "\n",
    "The puzzle above would be encoded as the dictionary below\n",
    "\n",
    "```python\n",
    "{\n",
    "    'A': (1, 2, 3),\n",
    "    'B': (3, 2, 1),\n",
    "    'C': (1, 3, 3)\n",
    "}\n",
    "```"
   ]
  },
  {
   "cell_type": "code",
   "execution_count": 4,
   "metadata": {},
   "outputs": [],
   "source": [
    "def generate_puzzle(self, seed, n):\n",
    "        group = lambda l, n: (tuple(l[j:j+n]) for j in range(0, len(l), n))\n",
    "        generate_colors = lambda i: int(1+(np.floor(i*seed)%n))\n",
    "        colors = group(list(map(generate_colors, range(1, 3*n+1))), 3)\n",
    "        cubes = map(self.name_node, range(1, n+1))\n",
    "        return dzip(cubes, colors)\n",
    "\n",
    "def name_node(self, n):\n",
    "        name = ''\n",
    "        while True:\n",
    "            n -= 1;\n",
    "            name = chr(ord('A') + n%26) + name;\n",
    "            n = n // 26\n",
    "            if n < 0:\n",
    "                break\n",
    "        return name[1:]\n",
    "\n",
    "IITriangles.generate_puzzle = generate_puzzle\n",
    "IITriangles.name_node = name_node"
   ]
  },
  {
   "cell_type": "markdown",
   "metadata": {},
   "source": [
    "# Color Counts\n",
    "\n",
    "example text"
   ]
  },
  {
   "cell_type": "code",
   "execution_count": 5,
   "metadata": {},
   "outputs": [],
   "source": [
    "@property\n",
    "def color_counts(self):\n",
    "    return Counter(chain(*self.puzzle.values()))\n",
    "\n",
    "IITriangles.color_counts = color_counts"
   ]
  },
  {
   "cell_type": "markdown",
   "metadata": {},
   "source": [
    "# Finding Obstacles\n",
    "\n",
    "example text"
   ]
  },
  {
   "cell_type": "code",
   "execution_count": 6,
   "metadata": {},
   "outputs": [],
   "source": [
    "def find_obstacle(self):\n",
    "    \n",
    "    strategy = {\n",
    "        2: self.size2_strategy,\n",
    "        3: self.size3_strategy,\n",
    "        4: self.size4_strategy,\n",
    "        None: self.other_strategy\n",
    "    }\n",
    "    \n",
    "    if all(lambda i: i != 3, self.color_counts):\n",
    "        for obstacle_size in (2, 3, 4):\n",
    "            obstacle = strategy[obstacle_size]()\n",
    "            break\n",
    "    else:\n",
    "        obstacle = strategy[None]()\n",
    "    \n",
    "    return obstacle\n",
    "\n",
    "IITriangles.find_obstacle = find_obstacle"
   ]
  },
  {
   "cell_type": "markdown",
   "metadata": {},
   "source": [
    "# Single Cube DiGraphs\n",
    "\n",
    "example text"
   ]
  },
  {
   "cell_type": "code",
   "execution_count": 7,
   "metadata": {},
   "outputs": [],
   "source": [
    "def single_cube_digraph(self, cube):\n",
    "    dG = nx.DiGraph()\n",
    "    dG.add_nodes_from(zip(self.puzzle[cube], [{'color': color} for color in self.puzzle[cube]]))\n",
    "    dG.add_edges_from([\n",
    "        (self.puzzle[cube][0], self.puzzle[cube][1]),\n",
    "        (self.puzzle[cube][1], self.puzzle[cube][2]),\n",
    "        (self.puzzle[cube][2], self.puzzle[cube][0])\n",
    "    ])\n",
    "    return dG\n",
    "\n",
    "IITriangles.single_cube_digraph = single_cube_digraph"
   ]
  },
  {
   "cell_type": "markdown",
   "metadata": {},
   "source": [
    "# Size 2 Obstacles\n",
    "\n",
    "example text"
   ]
  },
  {
   "cell_type": "code",
   "execution_count": 21,
   "metadata": {},
   "outputs": [],
   "source": [
    "def size2_strategy(self):\n",
    "            \n",
    "    color_combinations = defaultdict(list)\n",
    "    for cube, colors in self.puzzle.items():\n",
    "        color_combinations[frozenset(colors)].append(cube)\n",
    "    \n",
    "    more_than_one = lambda cubes: len(cubes) > 1\n",
    "    for colors, cubes in {k:v for k,v in color_combinations.items() if more_than_one(v)}.items():\n",
    "        \n",
    "        CubeRecord = namedtuple('CubeRecord', ['label', 'graph'])\n",
    "        prev_cube = CubeRecord(cubes[0], self.single_cube_digraph(cubes[0]))\n",
    "        \n",
    "        for cube in cubes[1:]:\n",
    "            dG = self.single_cube_digraph(cube)\n",
    "            \n",
    "            matcher = nx.isomorphism.DiGraphMatcher(dG.reverse(), prev_cube.graph,\n",
    "                            node_match=nx.isomorphism.categorical_node_match('color', None))\n",
    "            \n",
    "            if matcher.is_isomorphic():\n",
    "                return (cube, prev_cube.label)                \n",
    "            prev_cube = CubeRecord(cube, dG)\n",
    "    else: \n",
    "        return None\n",
    "    \n",
    "IITriangles.size2_strategy = size2_strategy"
   ]
  },
  {
   "cell_type": "markdown",
   "metadata": {},
   "source": [
    "# Size 3 Obstacles\n",
    "\n",
    "example text"
   ]
  },
  {
   "cell_type": "code",
   "execution_count": 58,
   "metadata": {},
   "outputs": [],
   "source": [
    "def size3_strategy(self):\n",
    "            \n",
    "    color_combinations = defaultdict(set)\n",
    "    for cube, colors in self.puzzle.items():\n",
    "        color_pairs = (frozenset(pair) for pair in combinations(colors, 2))\n",
    "        for pair in color_pairs:\n",
    "            color_combinations[pair].add(cube)\n",
    "            \n",
    "    three_or_more = lambda cubes: len(cubes) >= 3\n",
    "    for colors, obstacle_candidate_iter in {\n",
    "        k: combinations(cubes, 3) for k,cubes in color_combinations.items() if three_or_more(cubes)\n",
    "    }.items():\n",
    "        \n",
    "        for obstacle_candidate in obstacle_candidate_iter:\n",
    "             \n",
    "            cube_edges = [self.single_cube_digraph(i).edges for i in obstacle_candidate]\n",
    "\n",
    "            edge_fwd = tuple(colors)\n",
    "            edge_rev = tuple(reversed(edge_fwd))\n",
    "            \n",
    "            contains_fwd = [edge_fwd in edges for edges in cube_edges]\n",
    "            contains_rev = [edge_rev in edges for edges in cube_edges]\n",
    "            \n",
    "            if (sum(contains_fwd) >= 2 and sum(contains_rev) >= 1) \\\n",
    "                or (sum(contains_fwd) >= 1 and sum(contains_rev) >= 2):\n",
    "                return obstacle_candidate\n",
    "    else:\n",
    "        return None      \n",
    "    \n",
    "IITriangles.size3_strategy = size3_strategy"
   ]
  },
  {
   "cell_type": "markdown",
   "metadata": {},
   "source": [
    "# Size 4 Obstacles\n",
    "\n",
    "example text"
   ]
  },
  {
   "cell_type": "code",
   "execution_count": 72,
   "metadata": {},
   "outputs": [],
   "source": [
    "def size4_strategy(self):\n",
    "        \n",
    "    for color, count in self.color_counts.items():\n",
    "        if count >= 4:\n",
    "            return [cube for cube, colors in self.puzzle.items() if color in colors][:3]\n",
    "    \n",
    "IITriangles.size4_strategy = size4_strategy"
   ]
  },
  {
   "cell_type": "markdown",
   "metadata": {},
   "source": [
    "# Larger than 4 Obstacles\n",
    "\n",
    "example text"
   ]
  },
  {
   "cell_type": "code",
   "execution_count": null,
   "metadata": {},
   "outputs": [],
   "source": []
  }
 ],
 "metadata": {
  "kernelspec": {
   "display_name": "Python 3",
   "language": "python",
   "name": "python3"
  },
  "language_info": {
   "codemirror_mode": {
    "name": "ipython",
    "version": 3
   },
   "file_extension": ".py",
   "mimetype": "text/x-python",
   "name": "python",
   "nbconvert_exporter": "python",
   "pygments_lexer": "ipython3",
   "version": "3.8.0"
  }
 },
 "nbformat": 4,
 "nbformat_minor": 2
}
