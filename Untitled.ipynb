{
 "cells": [
  {
   "cell_type": "code",
   "execution_count": 65,
   "metadata": {},
   "outputs": [],
   "source": [
    "import numpy as np\n",
    "import networkx as nx\n",
    "from matplotlib import pyplot as plt\n",
    "%matplotlib inline\n",
    "from itertools import *\n",
    "from collections import *"
   ]
  },
  {
   "cell_type": "code",
   "execution_count": 3,
   "metadata": {},
   "outputs": [],
   "source": [
    "dzip = lambda *args: dict(zip(*args))\n",
    "\n",
    "class IITriangles:\n",
    "    \n",
    "    def __init__(self, seed, n):\n",
    "        self.seed = seed\n",
    "        self.n = n\n",
    "        self.puzzle = self.generate_puzzle(seed, n)"
   ]
  },
  {
   "cell_type": "markdown",
   "metadata": {},
   "source": [
    "# Creating the Puzzle\n",
    "\n",
    "First we generate a puzzle from the seed and number of cubes. We format the puzzle as a dictionary where the key is the cube id and the value is a tuple containing the colors. We use excel-column label format for the cube names to \n",
    "differenciate them from the colors.\n",
    "\n",
    "| cube | color 1 | color 2 | color 3 |\n",
    "|:---: | :------ | :------ | :------ |\n",
    "|**A** | 1       | 2       | 3       |\n",
    "|**B** | 3       | 2       | 1       |\n",
    "|**C** | 1       | 3       | 3       |\n",
    "\n",
    "The puzzle above would be encoded as the dictionary below\n",
    "\n",
    "```python\n",
    "    {\n",
    "        'A': (1, 2, 3),\n",
    "        'B': (3, 2, 1),\n",
    "        'C': (1, 3, 3)\n",
    "    }\n",
    "```"
   ]
  },
  {
   "cell_type": "code",
   "execution_count": 4,
   "metadata": {},
   "outputs": [],
   "source": [
    "def generate_puzzle(self, seed, n):\n",
    "        group = lambda l, n: (tuple(l[j:j+n]) for j in range(0, len(l), n))\n",
    "        generate_colors = lambda i: int(1+(np.floor(i*seed)%n))\n",
    "        colors = group(list(map(generate_colors, range(1, 3*n+1))), 3)\n",
    "        cubes = map(self.name_node, range(1, n+1))\n",
    "        return dzip(cubes, colors)\n",
    "\n",
    "def name_node(self, n):\n",
    "        name = ''\n",
    "        while True:\n",
    "            n -= 1;\n",
    "            name = chr(ord('A') + n%26) + name;\n",
    "            n = n // 26\n",
    "            if n < 0:\n",
    "                break\n",
    "        return name[1:]\n",
    "\n",
    "IITriangles.generate_puzzle = generate_puzzle\n",
    "IITriangles.name_node = name_node"
   ]
  },
  {
   "cell_type": "markdown",
   "metadata": {},
   "source": [
    "# Color Counts\n",
    "\n",
    "example text"
   ]
  },
  {
   "cell_type": "code",
   "execution_count": 5,
   "metadata": {},
   "outputs": [],
   "source": [
    "@property\n",
    "def color_counts(self):\n",
    "    return Counter(chain(*self.puzzle.values()))\n",
    "\n",
    "IITriangles.color_counts = color_counts"
   ]
  },
  {
   "cell_type": "markdown",
   "metadata": {},
   "source": [
    "# Finding Obstacles\n",
    "\n",
    "example text"
   ]
  },
  {
   "cell_type": "code",
   "execution_count": 6,
   "metadata": {},
   "outputs": [],
   "source": [
    "def find_obstacle(self):\n",
    "    \n",
    "    strategy = {\n",
    "        2: self.size2_strategy,\n",
    "        3: self.size3_strategy,\n",
    "        4: self.size4_strategy,\n",
    "        None: self.other_strategy\n",
    "    }\n",
    "    \n",
    "    if all(lambda i: i != 3, self.color_counts):\n",
    "        for obstacle_size in (2, 3, 4):\n",
    "            obstacle = strategy[obstacle_size]()\n",
    "            break\n",
    "        return obstacle\n",
    "    else:\n",
    "        obstacle = strategy[None]()\n",
    "        return obstacle\n",
    "\n",
    "IITriangles.find_obstacle = find_obstacle"
   ]
  },
  {
   "cell_type": "markdown",
   "metadata": {},
   "source": [
    "# Size 2 Obstacles\n",
    "\n",
    "example text"
   ]
  },
  {
   "cell_type": "code",
   "execution_count": 61,
   "metadata": {},
   "outputs": [],
   "source": [
    "def draw_graph(G, pos, ax=None):\n",
    "    if ax is None:\n",
    "        _, ax = plt.subplots()\n",
    "    nx.draw(G, pos=pos, with_labels=True, ax=ax)"
   ]
  },
  {
   "cell_type": "code",
   "execution_count": 117,
   "metadata": {},
   "outputs": [],
   "source": [
    "def single_cube_digraph(self, cube):\n",
    "    dG = nx.DiGraph()\n",
    "    dG.add_nodes_from(zip(self.puzzle[cube], [{'color': color} for color in self.puzzle[cube]]))\n",
    "    dG.add_edges_from([\n",
    "        (self.puzzle[cube][0], self.puzzle[cube][1]),\n",
    "        (self.puzzle[cube][1], self.puzzle[cube][2]),\n",
    "        (self.puzzle[cube][2], self.puzzle[cube][0])\n",
    "    ])\n",
    "    return dG\n",
    "\n",
    "IITriangles.single_cube_digraph = single_cube_digraph"
   ]
  },
  {
   "cell_type": "code",
   "execution_count": 128,
   "metadata": {},
   "outputs": [],
   "source": [
    "def size2_strategy(self):\n",
    "        \n",
    "    obstacle_found = None    \n",
    "    \n",
    "    color_combinations = {}    \n",
    "    for cube, colors in self.puzzle.items():\n",
    "        colorset = frozenset(colors)\n",
    "        color_combinations[colorset] = (\n",
    "            color_combinations[colorset] + [cube] if (colorset in color_combinations) else [cube])    \n",
    "    \n",
    "    more_than_one = lambda cubes: len(cubes) > 1\n",
    "    for colors, cubes in {k:v for k,v in color_combinations.items() if more_than_one(v)}.items():\n",
    "        \n",
    "        last_cube = {'label': cubes[0], 'graph': self.single_cube_digraph(cubes[0])}\n",
    "        \n",
    "        for i, cube in enumerate(cubes[1:]):\n",
    "            dG = self.single_cube_digraph(cube)\n",
    "            \n",
    "            matcher = nx.isomorphism.DiGraphMatcher(dG.reverse(), last_cube['graph'],\n",
    "                            node_match=nx.isomorphism.categorical_node_match('color', None))\n",
    "            \n",
    "            if matcher.is_isomorphic():\n",
    "                obstacle_found = (cube, last_cube['label'])\n",
    "                break\n",
    "                \n",
    "            last_cube = {'label': cube, 'graph': dG}\n",
    "        \n",
    "        return obstacle_found\n",
    "    \n",
    "IITriangles.size2_strategy = size2_strategy"
   ]
  },
  {
   "cell_type": "markdown",
   "metadata": {},
   "source": [
    "# Size 3 Obstacles\n",
    "\n",
    "example text"
   ]
  },
  {
   "cell_type": "code",
   "execution_count": null,
   "metadata": {},
   "outputs": [],
   "source": []
  },
  {
   "cell_type": "markdown",
   "metadata": {},
   "source": [
    "# Size 4 Obstacles\n",
    "\n",
    "example text"
   ]
  },
  {
   "cell_type": "code",
   "execution_count": null,
   "metadata": {},
   "outputs": [],
   "source": []
  },
  {
   "cell_type": "markdown",
   "metadata": {},
   "source": [
    "# Larger than 4 Obstacles\n",
    "\n",
    "example text"
   ]
  },
  {
   "cell_type": "code",
   "execution_count": null,
   "metadata": {},
   "outputs": [],
   "source": []
  }
 ],
 "metadata": {
  "kernelspec": {
   "display_name": "Python 3",
   "language": "python",
   "name": "python3"
  },
  "language_info": {
   "codemirror_mode": {
    "name": "ipython",
    "version": 3
   },
   "file_extension": ".py",
   "mimetype": "text/x-python",
   "name": "python",
   "nbconvert_exporter": "python",
   "pygments_lexer": "ipython3",
   "version": "3.8.0"
  }
 },
 "nbformat": 4,
 "nbformat_minor": 2
}
